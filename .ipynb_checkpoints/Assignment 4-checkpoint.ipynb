{
 "cells": [
  {
   "cell_type": "code",
   "execution_count": 2,
   "metadata": {},
   "outputs": [],
   "source": [
    "import pandas as pd"
   ]
  },
  {
   "cell_type": "code",
   "execution_count": 7,
   "metadata": {},
   "outputs": [],
   "source": [
    "#1\n",
    "data = {'Name':['Sarthak', 'Rohan', 'Ajay', 'Keshav'], 'Age':[21,22,20,23], 'Email':['sathak@gmail.com','rohan@gmail.com'\n",
    "                                                                                ,'ajay@gmail.com','keshav@gmail.com'],'Phno':[8123477234,8473718294,9827847362,9485736278]}"
   ]
  },
  {
   "cell_type": "code",
   "execution_count": 12,
   "metadata": {},
   "outputs": [
    {
     "name": "stdout",
     "output_type": "stream",
     "text": [
      "      Name  Age             Email        Phno\n",
      "0  Sarthak   21  sathak@gmail.com  8123477234\n",
      "1    Rohan   22   rohan@gmail.com  8473718294\n",
      "2     Ajay   20    ajay@gmail.com  9827847362\n",
      "3   Keshav   23  keshav@gmail.com  9485736278\n"
     ]
    }
   ],
   "source": [
    "df=pd.DataFrame(data)\n",
    "print(df)"
   ]
  },
  {
   "cell_type": "code",
   "execution_count": 34,
   "metadata": {},
   "outputs": [
    {
     "data": {
      "text/plain": [
       "0    0.5\n",
       "1    4.4\n",
       "dtype: float64"
      ]
     },
     "execution_count": 34,
     "metadata": {},
     "output_type": "execute_result"
    }
   ],
   "source": [
    "#2\n",
    "df1=pd.read_csv('weather.csv')\n",
    "#a)\n",
    "df1.head()\n",
    "#b)\n",
    "df1.head(10)\n",
    "#c)\n",
    "df1['MaxTemp'].sum()\n",
    "df1['MaxTemp'].mean()\n",
    "df1['MaxTemp'].describe()\n",
    "df1['MaxTemp'].count()\n",
    "df1['MaxTemp'].max()\n",
    "df1['MaxTemp'].min()\n",
    "df1['MaxTemp'].median()\n",
    "df1['MaxTemp'].mode()\n",
    "#d)\n",
    "df1.tail(5)\n",
    "#e)\n",
    "df1['MinTemp'].sum()\n",
    "df1['MinTemp'].mean()\n",
    "df1['MinTemp'].describe()\n",
    "df1['MinTemp'].count()\n",
    "df1['MinTemp'].max()\n",
    "df1['MinTemp'].min()\n",
    "df1['MinTemp'].median()\n",
    "df1['MinTemp'].mode()\n"
   ]
  }
 ],
 "metadata": {
  "kernelspec": {
   "display_name": "Python 3",
   "language": "python",
   "name": "python3"
  },
  "language_info": {
   "codemirror_mode": {
    "name": "ipython",
    "version": 3
   },
   "file_extension": ".py",
   "mimetype": "text/x-python",
   "name": "python",
   "nbconvert_exporter": "python",
   "pygments_lexer": "ipython3",
   "version": "3.6.4"
  }
 },
 "nbformat": 4,
 "nbformat_minor": 2
}
