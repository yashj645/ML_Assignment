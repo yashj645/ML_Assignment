{
 "cells": [
  {
   "cell_type": "code",
   "execution_count": 2,
   "metadata": {},
   "outputs": [],
   "source": [
    "import numpy as np"
   ]
  },
  {
   "cell_type": "code",
   "execution_count": 15,
   "metadata": {},
   "outputs": [],
   "source": [
    "#1\n",
    "arr=np.random.rand(10,1)\n",
    "print(arr)"
   ]
  },
  {
   "cell_type": "code",
   "execution_count": 14,
   "metadata": {},
   "outputs": [],
   "source": [
    "#2\n",
    "arr=np.random.rand(20,1)\n",
    "s=np.std(arr)\n",
    "v=s**2\n",
    "print(s)\n",
    "print(v)"
   ]
  },
  {
   "cell_type": "code",
   "execution_count": 13,
   "metadata": {},
   "outputs": [],
   "source": [
    "#3\n",
    "A=np.random.rand(10,20)\n",
    "B=np.random.rand(20,25)\n",
    "C=np.dot(A,B)\n",
    "s=np.sum(C)\n",
    "print(c)\n",
    "print(s)"
   ]
  },
  {
   "cell_type": "code",
   "execution_count": 23,
   "metadata": {},
   "outputs": [
    {
     "name": "stdout",
     "output_type": "stream",
     "text": [
      "[[0.91377994]\n",
      " [0.54235973]\n",
      " [0.42665533]\n",
      " [0.46405671]\n",
      " [0.79461362]\n",
      " [0.3984672 ]\n",
      " [0.131385  ]\n",
      " [0.13299377]\n",
      " [0.30803654]\n",
      " [0.29987049]]\n",
      "[[0.71377303]\n",
      " [0.63236118]\n",
      " [0.60507471]\n",
      " [0.6139761 ]\n",
      " [0.6888211 ]\n",
      " [0.59831933]\n",
      " [0.53279908]\n",
      " [0.53319952]\n",
      " [0.57640593]\n",
      " [0.57441086]]\n"
     ]
    }
   ],
   "source": [
    "#4\n",
    "arr=np.random.rand(10,1)\n",
    "print(arr)\n",
    "def func(a):\n",
    "    return 1/(1+np.exp(-a))\n",
    "ar=func(arr)\n",
    "print(ar)"
   ]
  }
 ],
 "metadata": {
  "kernelspec": {
   "display_name": "Python 3",
   "language": "python",
   "name": "python3"
  },
  "language_info": {
   "codemirror_mode": {
    "name": "ipython",
    "version": 3
   },
   "file_extension": ".py",
   "mimetype": "text/x-python",
   "name": "python",
   "nbconvert_exporter": "python",
   "pygments_lexer": "ipython3",
   "version": "3.6.4"
  }
 },
 "nbformat": 4,
 "nbformat_minor": 2
}
