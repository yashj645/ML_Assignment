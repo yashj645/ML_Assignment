{
 "cells": [
  {
   "cell_type": "code",
   "execution_count": 2,
   "metadata": {},
   "outputs": [],
   "source": [
    "import numpy as np"
   ]
  },
  {
   "cell_type": "code",
   "execution_count": 15,
   "metadata": {},
   "outputs": [],
   "source": [
    "#1\n",
    "arr=np.random.rand(10,1)\n",
    "print(arr)"
   ]
  },
  {
   "cell_type": "code",
   "execution_count": 14,
   "metadata": {},
   "outputs": [],
   "source": [
    "#2\n",
    "arr=np.random.rand(20,1)\n",
    "s=np.std(arr)\n",
    "v=s**2\n",
    "print(s)\n",
    "print(v)"
   ]
  },
  {
   "cell_type": "code",
   "execution_count": 13,
   "metadata": {},
   "outputs": [],
   "source": [
    "#3\n",
    "A=np.random.rand(10,20)\n",
    "B=np.random.rand(20,25)\n",
    "C=np.dot(A,B)\n",
    "s=np.sum(C)\n",
    "print(c)\n",
    "print(s)"
   ]
  },
  {
   "cell_type": "code",
   "execution_count": 22,
   "metadata": {},
   "outputs": [
    {
     "name": "stdout",
     "output_type": "stream",
     "text": [
      "[[0.58401344]\n",
      " [0.59880096]\n",
      " [0.63612523]\n",
      " [0.52423822]\n",
      " [0.60867342]\n",
      " [0.65042027]\n",
      " [0.71406169]\n",
      " [0.50037058]\n",
      " [0.69740129]\n",
      " [0.63372781]]\n"
     ]
    }
   ],
   "source": [
    "#4\n",
    "arr=np.random.rand(10,1)\n",
    "def func(a):\n",
    "    return 1/(1+np.exp(-a))\n",
    "ar=func(arr)\n",
    "print(ar)"
   ]
  },
  {
   "cell_type": "code",
   "execution_count": 20,
   "metadata": {},
   "outputs": [
    {
     "name": "stdout",
     "output_type": "stream",
     "text": [
      "[[0]\n",
      " [0]\n",
      " [0]\n",
      " [0]\n",
      " [0]\n",
      " [0]\n",
      " [0]\n",
      " [0]\n",
      " [0]\n",
      " [0]]\n"
     ]
    }
   ],
   "source": [
    "import math\n",
    "#arr=np.random.rand(10,1)\n",
    "l=[[1],[2],[3],[4],[5],[6],[7],[8],[9],[10]]\n",
    "arr=np.array(l)\n",
    "def func(a):\n",
    "    return float(1/(1+math.exp(-a)))\n",
    "for i in range(10):\n",
    "    b=func(arr[i,0])\n",
    "    arr[i,0]=b\n",
    "print(arr)\n"
   ]
  }
 ],
 "metadata": {
  "kernelspec": {
   "display_name": "Python 3",
   "language": "python",
   "name": "python3"
  },
  "language_info": {
   "codemirror_mode": {
    "name": "ipython",
    "version": 3
   },
   "file_extension": ".py",
   "mimetype": "text/x-python",
   "name": "python",
   "nbconvert_exporter": "python",
   "pygments_lexer": "ipython3",
   "version": "3.6.4"
  }
 },
 "nbformat": 4,
 "nbformat_minor": 2
}
