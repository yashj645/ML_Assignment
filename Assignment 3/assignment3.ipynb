{
 "cells": [
  {
   "cell_type": "code",
   "execution_count": 7,
   "metadata": {},
   "outputs": [
    {
     "name": "stdout",
     "output_type": "stream",
     "text": [
      "0.0303030303030303\n"
     ]
    }
   ],
   "source": [
    "#1\n",
    "a=11/36\n",
    "b=6/36\n",
    "c=2/36 \n",
    "def possible(a,b,c):\n",
    "    d=(c)*(b)\n",
    "    print(d/a)\n",
    "possible(a,b,c)"
   ]
  },
  {
   "cell_type": "code",
   "execution_count": 14,
   "metadata": {},
   "outputs": [
    {
     "name": "stdout",
     "output_type": "stream",
     "text": [
      "0.5666666666666667\n"
     ]
    }
   ],
   "source": [
    "#2\n",
    "#let a be the event of getting black ball\n",
    "#h1 prob of selecting from bag1\n",
    "#h2 prob of selecting from bag2\n",
    "#we use bayes theroem to find the prob that selected bag is 1 if black ball is drawn \n",
    "#p(h1/a)=(p(a/h1)*p(h1))/p(a)\n",
    "print(((6/10)*(1/2))/(9/17))"
   ]
  },
  {
   "cell_type": "code",
   "execution_count": 15,
   "metadata": {},
   "outputs": [
    {
     "name": "stdout",
     "output_type": "stream",
     "text": [
      "0.6666666666666666\n"
     ]
    }
   ],
   "source": [
    "#3\n",
    "print(((1/6)*(2/3))/(1/6))"
   ]
  }
 ],
 "metadata": {
  "kernelspec": {
   "display_name": "Python 3",
   "language": "python",
   "name": "python3"
  },
  "language_info": {
   "codemirror_mode": {
    "name": "ipython",
    "version": 3
   },
   "file_extension": ".py",
   "mimetype": "text/x-python",
   "name": "python",
   "nbconvert_exporter": "python",
   "pygments_lexer": "ipython3",
   "version": "3.6.4"
  }
 },
 "nbformat": 4,
 "nbformat_minor": 2
}
